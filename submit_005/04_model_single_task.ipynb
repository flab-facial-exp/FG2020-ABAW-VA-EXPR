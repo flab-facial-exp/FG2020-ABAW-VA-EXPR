{
 "cells": [
  {
   "cell_type": "code",
   "execution_count": null,
   "metadata": {},
   "outputs": [],
   "source": [
    "\"\"\"\n",
    "create and evaluate multi time-window model taht is fusion model of single target models\n",
    " * select type: \"EXP\", \"VA_V\", \"VA_A\"\n",
    " * create \"fusion\" model\n",
    " * evaluate validation *note* labels are averaged in 1sec-window\n",
    "\"\"\"\n",
    "import numpy as np\n",
    "import pandas as pd\n",
    "import glob\n",
    "import re\n",
    "import sklearn #機械学習のライブラリ\n",
    "import lightgbm as lgb\n",
    "from sklearn.metrics import accuracy_score,mean_squared_error,f1_score\n",
    "import matplotlib.pyplot as plt\n",
    "from statistics import mean, median,variance,stdev\n",
    "import math\n",
    "from scipy import stats\n",
    "import pickle\n",
    "import os\n",
    "import pathlib\n",
    "from pathlib import Path\n",
    "from single_model_per_task_target_2 import generate_single_task_model"
   ]
  },
  {
   "cell_type": "code",
   "execution_count": null,
   "metadata": {
    "scrolled": true
   },
   "outputs": [],
   "source": [
    "# root folder\n",
    "dir_submit = str(Path().resolve())\n",
    "dir_base = str(Path(Path().resolve()).parent) + \"\\\\base_data\"\n",
    "\n",
    "# merged data folder (va, exp : train, validation)\n",
    "dir_data_va_train = dir_base + \"\\\\Merged_with_enet\\\\Merged_VA_roll\\\\Training\\\\\"\n",
    "dir_data_va_val = dir_base + \"\\\\Merged_with_enet\\\\Merged_VA_roll\\\\Validation\\\\\"\n",
    "dir_data_exp_train = dir_base + \"\\\\Merged_with_enet\\\\Merged_EXP_roll\\\\Training\\\\\"\n",
    "dir_data_exp_val = dir_base + \"\\\\Merged_with_enet\\\\Merged_EXP_roll\\\\Validation\\\\\"\n",
    "\n",
    "# set model folder: 01, 06, 12s window\n",
    "dir_model_01s = dir_submit + \"\\\\models\\\\t01\\\\\"\n",
    "dir_model_06s = dir_submit + \"\\\\models\\\\t06\\\\\"\n",
    "dir_model_12s = dir_submit + \"\\\\models\\\\t12\\\\\"\n",
    "dir_model_03s = dir_submit + \"\\\\models\\\\t03\\\\\"\n",
    "\n",
    "# set output folder\n",
    "dir_out = dir_submit + \"\\\\models\\\\ensemble\\\\\"\n",
    "if os.path.isdir(dir_out) == False:\n",
    "    os.makedirs(dir_out)\n",
    "\n",
    "# balancing\n",
    "#balance = True\n",
    "balance = False\n",
    "# substruct features\n",
    "dir_feature = dir_base + \"\\\\features\\\\\"\n",
    "#dir_feature = None\n",
    "    \n",
    "# VA_A\n",
    "target = \"VA_A\"\n",
    "dir_data_train = dir_data_va_train\n",
    "dir_data_val = dir_data_va_val\n",
    "generate_single_task_model(dir_data_train, dir_data_val, \n",
    "                           dir_model_01s, dir_model_06s, dir_model_12s, dir_model_03s,\n",
    "                           dir_out, target, balance, dir_feature)\n",
    "\n",
    "\n",
    "# VA_V\n",
    "target = \"VA_V\"\n",
    "dir_data_train = dir_data_va_train\n",
    "dir_data_val = dir_data_va_val\n",
    "generate_single_task_model(dir_data_train, dir_data_val, \n",
    "                           dir_model_01s, dir_model_06s, dir_model_12s, dir_model_03s,\n",
    "                           dir_out, target, balance, dir_feature)\n",
    "\n",
    "# EXP\n",
    "target = \"EXP\"\n",
    "dir_data_train = dir_data_exp_train\n",
    "dir_data_val = dir_data_exp_val\n",
    "generate_single_task_model(dir_data_train, dir_data_val, \n",
    "                           dir_model_01s, dir_model_06s, dir_model_12s, dir_model_03s,\n",
    "                           dir_out, target, balance, dir_feature)\n"
   ]
  },
  {
   "cell_type": "code",
   "execution_count": null,
   "metadata": {},
   "outputs": [],
   "source": []
  }
 ],
 "metadata": {
  "kernelspec": {
   "display_name": "Python 3",
   "language": "python",
   "name": "python3"
  },
  "language_info": {
   "codemirror_mode": {
    "name": "ipython",
    "version": 3
   },
   "file_extension": ".py",
   "mimetype": "text/x-python",
   "name": "python",
   "nbconvert_exporter": "python",
   "pygments_lexer": "ipython3",
   "version": "3.8.3"
  }
 },
 "nbformat": 4,
 "nbformat_minor": 4
}
