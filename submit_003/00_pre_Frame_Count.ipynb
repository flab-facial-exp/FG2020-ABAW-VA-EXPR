{
 "cells": [
  {
   "cell_type": "code",
   "execution_count": null,
   "metadata": {},
   "outputs": [],
   "source": [
    "\"\"\"\n",
    "make frame count list (each video) for test\n",
    " * need opencv-python\n",
    " * output folder: ./proc_data/Frame_count\n",
    "\"\"\"\n",
    "\n",
    "import cv2\n",
    "import numpy as np\n",
    "import pandas as pd\n",
    "import glob\n",
    "import os\n",
    "import pathlib\n",
    "from pathlib import Path"
   ]
  },
  {
   "cell_type": "code",
   "execution_count": null,
   "metadata": {},
   "outputs": [],
   "source": [
    "# root folder\n",
    "dir_submit = str(Path().resolve())\n",
    "dir_base = str(Path(Path().resolve()).parent) + \"\\\\base_data\"\n",
    "\n",
    "# openface, openpose, resnet folder\n",
    "dir_video = dir_base + \"\\\\videos\\\\\"\n",
    "\n",
    "# output folder\n",
    "dir_out = dir_base + \"\\\\Frame_Count\\\\\"\n",
    "if os.path.isdir(dir_out) == False:\n",
    "    os.makedirs(dir_out)\n",
    "\n",
    "# list of file path:\n",
    "file_data = dir_video + \"*.*\"\n",
    "files_data = [\n",
    "    filename for filename in sorted(glob.glob(file_data))\n",
    "]\n",
    "log = \"file number of files_data: {0}\".format(len(files_data))\n",
    "print(log)\n"
   ]
  },
  {
   "cell_type": "code",
   "execution_count": null,
   "metadata": {},
   "outputs": [],
   "source": [
    "# make frame count list for test\n",
    "for f_data in files_data:\n",
    "\n",
    "    name = os.path.splitext(os.path.basename(f_data))[0]\n",
    "\n",
    "    # read video\n",
    "    video = cv2.VideoCapture(f_data)\n",
    "\n",
    "    # width\n",
    "    #W = video.get(cv2.CAP_PROP_FRAME_WIDTH)\n",
    "    # height\n",
    "    #H = video.get(cv2.CAP_PROP_FRAME_HEIGHT)\n",
    "    # number of frame\n",
    "    count = video.get(cv2.CAP_PROP_FRAME_COUNT)\n",
    "    # fps\n",
    "    #fps = video.get(cv2.CAP_PROP_FPS)\n",
    "    print(name,count)\n",
    "\n",
    "    list_frame = range(1,int(count)+2,1)\n",
    "    df = pd.DataFrame()\n",
    "    df[\"frame\"] = list_frame\n",
    "\n",
    "    # save count list to csv\n",
    "    file_out = dir_out + name + \".csv\"\n",
    "    df.to_csv(file_out, index=False)\n"
   ]
  },
  {
   "cell_type": "code",
   "execution_count": null,
   "metadata": {},
   "outputs": [],
   "source": []
  }
 ],
 "metadata": {
  "kernelspec": {
   "display_name": "Python 3",
   "language": "python",
   "name": "python3"
  },
  "language_info": {
   "codemirror_mode": {
    "name": "ipython",
    "version": 3
   },
   "file_extension": ".py",
   "mimetype": "text/x-python",
   "name": "python",
   "nbconvert_exporter": "python",
   "pygments_lexer": "ipython3",
   "version": "3.8.3"
  }
 },
 "nbformat": 4,
 "nbformat_minor": 4
}
