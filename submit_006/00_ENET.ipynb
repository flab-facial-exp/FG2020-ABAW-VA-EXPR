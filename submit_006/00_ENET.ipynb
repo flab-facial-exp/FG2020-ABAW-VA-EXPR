{
 "cells": [
  {
   "cell_type": "code",
   "execution_count": null,
   "metadata": {},
   "outputs": [],
   "source": [
    "\"\"\"\n",
    "make frame count list (each video) for test\n",
    " * need opencv-python\n",
    " * output folder: ./proc_data/Frame_count\n",
    "\"\"\"\n",
    "\n",
    "import tarfile\n",
    "import numpy as np\n",
    "import pandas as pd\n",
    "import glob\n",
    "import os\n",
    "import pathlib\n",
    "from pathlib import Path"
   ]
  },
  {
   "cell_type": "code",
   "execution_count": null,
   "metadata": {},
   "outputs": [],
   "source": [
    "# root folder\n",
    "dir_submit = str(Path().resolve())\n",
    "dir_base = str(Path(Path().resolve()).parent) + \"\\\\base_data\"\n",
    "\n",
    "# openface, openpose, resnet folder\n",
    "dir_enet = \"\\\\\\\\smb02a.dmi.flab.fujitsu.co.jp\\\\public\\\\Free Area\\\\Sense\\\\SenseTeam\\\\Engage\\\\DataCollection\\\\FG20\\\\\"\n",
    "dir_enet2 = \"data\\\\img_feature_b3_pca.tar\\\\img_data_raw_feature_pca\"\n",
    "#dir_video = dir_base + \"\\\\videos\\\\\"\n",
    "\n",
    "# output folder\n",
    "dir_out = dir_base + \"\\\\Enet\\\\\"\n",
    "if os.path.isdir(dir_out) == False:\n",
    "    os.makedirs(dir_out)\n",
    "\n",
    "folder_enet = dir_enet + dir_enet2 + \"\\\\*\"\n",
    "folders_enet = [\n",
    "    filename for filename in sorted(glob.glob(folder_enet))\n",
    "]\n",
    "log = \"folder number: {0}\".format(len(folders_enet))\n",
    "print(log)\n"
   ]
  },
  {
   "cell_type": "code",
   "execution_count": null,
   "metadata": {
    "scrolled": true
   },
   "outputs": [],
   "source": [
    "#folders_sample = folders_enet[362:]\n",
    "folders_sample = folders_enet\n",
    "\n",
    "count = 1\n",
    "max_count = len(folders_sample)\n",
    "\n",
    "for folder in folders_sample:\n",
    "    dir_name = os.path.basename(folder)\n",
    "    print(dir_name)\n",
    "\n",
    "    file_enet = folder + \"\\\\*.txt\"\n",
    "    files_enet = [\n",
    "        filename for filename in sorted(glob.glob(file_enet))\n",
    "    ]\n",
    "    log = \"file number: {0}\".format(len(files_enet))\n",
    "    print(log)\n",
    "\n",
    "    df = pd.DataFrame()\n",
    "    for fp in files_enet:\n",
    "        df_tmp = pd.read_csv(fp, header = None)\n",
    "        name = os.path.splitext(os.path.basename(fp))[0].replace(\"_pca\",\"\")\n",
    "        df_tmp.loc[\"frame\",0] = int(name)\n",
    "        df_tmp_T = df_tmp.T\n",
    "        df = pd.concat([df, df_tmp.T])\n",
    "\n",
    "    df.set_index(\"frame\", drop=False, inplace = True)\n",
    "    file_out = dir_out + dir_name + \"_enet.h5\"\n",
    "    df.to_hdf(file_out, key = \"key\", mode=\"w\", complevel=5, complib=\"lzo\" )\n",
    "    \n",
    "    log = \"{0}/{1}, name: {2}\".format(count, max_count, dir_name)\n",
    "    print(log)\n",
    "    count = count+1"
   ]
  },
  {
   "cell_type": "code",
   "execution_count": null,
   "metadata": {},
   "outputs": [],
   "source": [
    "count = 1\n",
    "max_count = len(folders_enet)\n",
    "\n",
    "for folder in folders_enet:\n",
    "    dir_name = os.path.basename(folder)\n",
    "    print(dir_name)\n",
    "\n",
    "    file_enet = folder + \"\\\\*.txt\"\n",
    "    files_enet = [\n",
    "        filename for filename in sorted(glob.glob(file_enet))\n",
    "    ]\n",
    "    log = \"file number: {0}\".format(len(files_enet))\n",
    "    print(log)\n",
    "\n",
    "    df = pd.DataFrame()\n",
    "    for fp in files_enet:\n",
    "        df_tmp = pd.read_csv(fp, header = None)\n",
    "        name = os.path.splitext(os.path.basename(fp))[0].replace(\"_pca\",\"\")\n",
    "        df_tmp.loc[\"frame\",0] = int(name)\n",
    "        df_tmp_T = df_tmp.T\n",
    "        df = pd.concat([df, df_tmp.T])\n",
    "\n",
    "    df.set_index(\"frame\", drop=False, inplace = True)\n",
    "    file_out = dir_out + dir_name + \"_enet.h5\"\n",
    "    df.to_hdf(file_out, key = \"key\", mode=\"w\", complevel=5, complib=\"lzo\" )\n",
    "    \n",
    "    log = \"{0}/{1}, name: {2}\".format(count, max_count, dir_name)\n",
    "    print(log)\n",
    "    count = count+1\n",
    "    \n",
    "    "
   ]
  },
  {
   "cell_type": "code",
   "execution_count": null,
   "metadata": {},
   "outputs": [],
   "source": []
  }
 ],
 "metadata": {
  "kernelspec": {
   "display_name": "Python 3",
   "language": "python",
   "name": "python3"
  },
  "language_info": {
   "codemirror_mode": {
    "name": "ipython",
    "version": 3
   },
   "file_extension": ".py",
   "mimetype": "text/x-python",
   "name": "python",
   "nbconvert_exporter": "python",
   "pygments_lexer": "ipython3",
   "version": "3.8.3"
  }
 },
 "nbformat": 4,
 "nbformat_minor": 4
}
