{
 "cells": [
  {
   "cell_type": "code",
   "execution_count": null,
   "metadata": {},
   "outputs": [],
   "source": [
    "\"\"\"\n",
    "create and evaluate single time-window model\n",
    " * select type: \"EXP\", \"VA_V\", \"VA_A\"\n",
    " * select time-window: \"_01s\", \"_06s\", \"_12s\"\n",
    " * create \"au\", \"pose\", \"gaze\", \"openpose\" and \"ensemble\" model\n",
    " * evaluate validation *note* labels are averaged in time-window\n",
    "\"\"\"\n",
    "import numpy as np\n",
    "import pandas as pd\n",
    "import glob\n",
    "import sklearn #機械学習のライブラリ\n",
    "import lightgbm as lgb\n",
    "from sklearn.metrics import accuracy_score,mean_squared_error,f1_score\n",
    "from statistics import mean, median,variance,stdev\n",
    "import math\n",
    "from scipy import stats\n",
    "import pickle\n",
    "import os\n",
    "from single_model_per_time_target import generate_single_model\n",
    "import pathlib\n",
    "from pathlib import Path"
   ]
  },
  {
   "cell_type": "code",
   "execution_count": null,
   "metadata": {
    "scrolled": true
   },
   "outputs": [],
   "source": [
    "# root folder\n",
    "dir_submit = str(Path().resolve())\n",
    "dir_base = str(Path(Path().resolve()).parent) + \"\\\\base_data\"\n",
    "\n",
    "# merged data folder (va, exp : train, validation)\n",
    "dir_data_va_train = dir_base + \"\\\\Merged_with_resnet\\\\Merged_VA_roll\\\\Training\\\\\"\n",
    "dir_data_va_val = dir_base + \"\\\\Merged_with_resnet\\\\Merged_VA_roll\\\\Validation\\\\\"\n",
    "dir_data_exp_train = dir_base + \"\\\\Merged_with_resnet\\\\Merged_EXP_roll\\\\Training\\\\\"\n",
    "dir_data_exp_val = dir_base + \"\\\\Merged_with_resnet\\\\Merged_EXP_roll\\\\Validation\\\\\"\n",
    "\n",
    "# balancing\n",
    "balance = False\n",
    "# substruct features\n",
    "dir_feature = None\n",
    "\n",
    "# 01s, (VA_A, VA_V, EXP)\n",
    "window_time = 1\n",
    "dir_out = dir_submit + \"\\\\models\\\\t01\\\\\"\n",
    "target = \"VA_A\"\n",
    "generate_single_model(dir_data_va_train, dir_data_va_val, dir_out, target, window_time, balance, dir_feature)\n",
    "target = \"VA_V\"\n",
    "generate_single_model(dir_data_va_train, dir_data_va_val, dir_out, target, window_time, balance, dir_feature)\n",
    "target = \"EXP\"\n",
    "generate_single_model(dir_data_exp_train, dir_data_exp_val, dir_out, target, window_time, balance, dir_feature)\n",
    "\n",
    "window_time = 6\n",
    "dir_out = dir_submit + \"\\\\models\\\\t06\\\\\"\n",
    "target = \"VA_A\"\n",
    "generate_single_model(dir_data_va_train, dir_data_va_val, dir_out, target, window_time, balance, dir_feature)\n",
    "target = \"VA_V\"\n",
    "generate_single_model(dir_data_va_train, dir_data_va_val, dir_out, target, window_time, balance, dir_feature)\n",
    "target = \"EXP\"\n",
    "generate_single_model(dir_data_exp_train, dir_data_exp_val, dir_out, target, window_time, balance, dir_feature)\n",
    "\n",
    "window_time = 12\n",
    "dir_out = dir_submit + \"\\\\models\\\\t12\\\\\"\n",
    "target = \"VA_A\"\n",
    "generate_single_model(dir_data_va_train, dir_data_va_val, dir_out, target, window_time, balance, dir_feature)\n",
    "target = \"VA_V\"\n",
    "generate_single_model(dir_data_va_train, dir_data_va_val, dir_out, target, window_time, balance, dir_feature)\n",
    "target = \"EXP\"\n",
    "generate_single_model(dir_data_exp_train, dir_data_exp_val, dir_out, target, window_time, balance, dir_feature)\n",
    "\n"
   ]
  },
  {
   "cell_type": "code",
   "execution_count": null,
   "metadata": {},
   "outputs": [],
   "source": []
  },
  {
   "cell_type": "code",
   "execution_count": null,
   "metadata": {},
   "outputs": [],
   "source": []
  }
 ],
 "metadata": {
  "kernelspec": {
   "display_name": "Python 3",
   "language": "python",
   "name": "python3"
  },
  "language_info": {
   "codemirror_mode": {
    "name": "ipython",
    "version": 3
   },
   "file_extension": ".py",
   "mimetype": "text/x-python",
   "name": "python",
   "nbconvert_exporter": "python",
   "pygments_lexer": "ipython3",
   "version": "3.8.3"
  }
 },
 "nbformat": 4,
 "nbformat_minor": 4
}
